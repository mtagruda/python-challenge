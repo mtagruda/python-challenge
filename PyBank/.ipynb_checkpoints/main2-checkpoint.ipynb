{
 "cells": [
  {
   "cell_type": "code",
   "execution_count": 334,
   "metadata": {},
   "outputs": [],
   "source": [
    "import os\n",
    "import csv"
   ]
  },
  {
   "cell_type": "code",
   "execution_count": 335,
   "metadata": {},
   "outputs": [],
   "source": [
    "csvpath = os.path.join(\"..\", \"Resources\", \"budget_data.csv\")"
   ]
  },
  {
   "cell_type": "code",
   "execution_count": 336,
   "metadata": {},
   "outputs": [],
   "source": [
    "    revenue = []\n",
    "    date = []\n",
    "    rev_change = []"
   ]
  },
  {
   "cell_type": "code",
   "execution_count": 337,
   "metadata": {},
   "outputs": [
    {
     "name": "stdout",
     "output_type": "stream",
     "text": [
      "Financial Analysis\n",
      "---------------------------------------------------------------------\n",
      "Total Months:  86\n",
      "Total: $ 38382578\n",
      "Average Change:  -2315\n",
      "Greatest Increase in Profits: Jan-2012 ($ 1926159 )\n",
      "Greatest Decrease in Profits: Aug-2013 ($ -2196167 )\n"
     ]
    }
   ],
   "source": [
    "with open(csvpath) as csvfile:\n",
    "    csvreader = csv.reader(csvfile)\n",
    "    header = next(csvreader)\n",
    "    for row in csvreader:\n",
    "        revenue.append(int(row[1]))\n",
    "        date.append(row[0])\n",
    "    print(\"Financial Analysis\")\n",
    "print(\"---------------------------------------------------------------------\")\n",
    "print(\"Total Months: \", len(date))\n",
    "print(\"Total: $\", sum(revenue))\n",
    "for i in range(1, len(revenue)):\n",
    "    rev_change.append(revenue[i] - revenue[i-1])   \n",
    "    avg_rev_change = sum(rev_change)/len(rev_change)\n",
    "    max_rev_change = max(rev_change)\n",
    "    min_rev_change = min(rev_change)\n",
    "    max_rev_change_date = str(date[rev_change.index(max(rev_change))])\n",
    "    min_rev_change_date = str(date[rev_change.index(min(rev_change))])\n",
    "print(\"Average Change: \", round(avg_rev_change))\n",
    "print(\"Greatest Increase in Profits:\", max_rev_change_date,\"($\", max_rev_change,\")\")\n",
    "print(\"Greatest Decrease in Profits:\", min_rev_change_date,\"($\", min_rev_change,\")\")"
   ]
  },
  {
   "cell_type": "code",
   "execution_count": 333,
   "metadata": {},
   "outputs": [
    {
     "name": "stdout",
     "output_type": "stream",
     "text": [
      "Financial Analysis\n",
      "---------------------------------------------------------------------\n",
      "Total Months:  172\n",
      "Total: $ 76765156\n",
      "Average Change:  -1383\n",
      "Greatest Increase in Profits: Jan-2012 ($ 1926159 )\n",
      "Greatest Decrease in Profits: Aug-2013 ($ -2196167 )\n"
     ]
    }
   ],
   "source": [
    "file = '../Resources/input.txt'\n",
    "with open(file, 'w') as text:\n",
    "      print(\"Financial Analysis\")\n",
    "print(\"---------------------------------------------------------------------\")\n",
    "print(\"Total Months: \", len(date))\n",
    "print(\"Total: $\", sum(revenue))\n",
    "for i in range(1, len(revenue)):\n",
    "    rev_change.append(revenue[i] - revenue[i-1])   \n",
    "    avg_rev_change = sum(rev_change)/len(rev_change)\n",
    "    max_rev_change = max(rev_change)\n",
    "    min_rev_change = min(rev_change)\n",
    "    max_rev_change_date = str(date[rev_change.index(max(rev_change))])\n",
    "    min_rev_change_date = str(date[rev_change.index(min(rev_change))])\n",
    "print(\"Average Change: \", round(avg_rev_change))\n",
    "print(\"Greatest Increase in Profits:\", max_rev_change_date,\"($\", max_rev_change,\")\")\n",
    "print(\"Greatest Decrease in Profits:\", min_rev_change_date,\"($\", min_rev_change,\")\")\n"
   ]
  },
  {
   "cell_type": "code",
   "execution_count": null,
   "metadata": {},
   "outputs": [],
   "source": []
  },
  {
   "cell_type": "code",
   "execution_count": null,
   "metadata": {},
   "outputs": [],
   "source": []
  }
 ],
 "metadata": {
  "kernelspec": {
   "display_name": "Python 3",
   "language": "python",
   "name": "python3"
  },
  "language_info": {
   "codemirror_mode": {
    "name": "ipython",
    "version": 3
   },
   "file_extension": ".py",
   "mimetype": "text/x-python",
   "name": "python",
   "nbconvert_exporter": "python",
   "pygments_lexer": "ipython3",
   "version": "3.7.3"
  }
 },
 "nbformat": 4,
 "nbformat_minor": 2
}
